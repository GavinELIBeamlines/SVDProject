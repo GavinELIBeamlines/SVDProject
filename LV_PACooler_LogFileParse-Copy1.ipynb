{
 "cells": [
  {
   "cell_type": "code",
   "execution_count": 25,
   "metadata": {},
   "outputs": [],
   "source": [
    "from pathlib import Path\n",
    "import pandas as pd\n",
    "import csv\n",
    "import matplotlib.pyplot as plt\n",
    "plt.rcParams['figure.facecolor']='w'"
   ]
  },
  {
   "cell_type": "code",
   "execution_count": 26,
   "metadata": {},
   "outputs": [],
   "source": [
    "logPath=Path('S:\\VP1 Team\\L4\\Gavin\\LoggingTest')\n",
    "#logFile=next(logPath.glob('*.*'))"
   ]
  },
  {
   "cell_type": "code",
   "execution_count": 27,
   "metadata": {},
   "outputs": [],
   "source": [
    "logFiles=list(logPath.glob('*.*'))"
   ]
  },
  {
   "cell_type": "code",
   "execution_count": 29,
   "metadata": {},
   "outputs": [],
   "source": [
    "logFiles\n",
    "logFile=logFiles[2]"
   ]
  },
  {
   "cell_type": "code",
   "execution_count": 30,
   "metadata": {},
   "outputs": [],
   "source": [
    "with open(logFile.as_posix(),'rb') as f:\n",
    "    #head=[next(f) for x in range(36)]\n",
    "    head=[]\n",
    "    for line in f:\n",
    "        #print(line)\n",
    "        head.append(line)\n"
   ]
  },
  {
   "cell_type": "code",
   "execution_count": 31,
   "metadata": {},
   "outputs": [],
   "source": [
    "df=pd.DataFrame()\n",
    "for j in range(10,len(head)):\n",
    "    line=head[j].decode(encoding='unicode_escape').replace('\\x00','').split('\\x06')\n",
    "    try:\n",
    "        df_temp=pd.DataFrame([item.split('\\t') for item in line if '\\t' in item])\n",
    "        df_temp.set_index(0,inplace=True)\n",
    "        df_temp.columns=[head[j].decode(encoding='unicode_escape').replace('\\x00','').split('\\x06')[0][1:10]]\n",
    "        df=pd.concat((df,df_temp),axis=1)\n",
    "    except:\n",
    "        pass\n",
    "df=df.T\n",
    "df=df.astype(float)"
   ]
  },
  {
   "cell_type": "code",
   "execution_count": 36,
   "metadata": {},
   "outputs": [
    {
     "data": {
      "text/plain": [
       "0.09064539521392313"
      ]
     },
     "execution_count": 36,
     "metadata": {},
     "output_type": "execute_result"
    }
   ],
   "source": [
    "(10/16)/6.895"
   ]
  },
  {
   "cell_type": "code",
   "execution_count": 35,
   "metadata": {},
   "outputs": [
    {
     "data": {
      "text/html": [
       "<div>\n",
       "<style scoped>\n",
       "    .dataframe tbody tr th:only-of-type {\n",
       "        vertical-align: middle;\n",
       "    }\n",
       "\n",
       "    .dataframe tbody tr th {\n",
       "        vertical-align: top;\n",
       "    }\n",
       "\n",
       "    .dataframe thead th {\n",
       "        text-align: right;\n",
       "    }\n",
       "</style>\n",
       "<table border=\"1\" class=\"dataframe\">\n",
       "  <thead>\n",
       "    <tr style=\"text-align: right;\">\n",
       "      <th></th>\n",
       "      <th>LPT436</th>\n",
       "      <th>LPT433</th>\n",
       "      <th>LPT434</th>\n",
       "      <th>LPT435</th>\n",
       "      <th>LPT432</th>\n",
       "    </tr>\n",
       "  </thead>\n",
       "  <tbody>\n",
       "    <tr>\n",
       "      <th>98.494940</th>\n",
       "      <td>28.994293</td>\n",
       "      <td>29.556370</td>\n",
       "      <td>29.925070</td>\n",
       "      <td>29.361205</td>\n",
       "      <td>29.602962</td>\n",
       "    </tr>\n",
       "    <tr>\n",
       "      <th>98.504272</th>\n",
       "      <td>28.847923</td>\n",
       "      <td>29.549432</td>\n",
       "      <td>29.338188</td>\n",
       "      <td>29.160161</td>\n",
       "      <td>29.335999</td>\n",
       "    </tr>\n",
       "  </tbody>\n",
       "</table>\n",
       "</div>"
      ],
      "text/plain": [
       "0             LPT436     LPT433     LPT434     LPT435     LPT432\n",
       "98.494940  28.994293  29.556370  29.925070  29.361205  29.602962\n",
       "98.504272  28.847923  29.549432  29.338188  29.160161  29.335999"
      ]
     },
     "execution_count": 35,
     "metadata": {},
     "output_type": "execute_result"
    }
   ],
   "source": []
  },
  {
   "cell_type": "code",
   "execution_count": 34,
   "metadata": {},
   "outputs": [
    {
     "data": {
      "text/plain": [
       "0\n",
       "LPT436    0.021228\n",
       "LPT433    0.001006\n",
       "LPT434    0.085117\n",
       "LPT435    0.029158\n",
       "LPT432    0.038718\n",
       "dtype: float64"
      ]
     },
     "execution_count": 34,
     "metadata": {},
     "output_type": "execute_result"
    }
   ],
   "source": [
    "(df.iloc[-2,:]-df.iloc[-1,:])/6.895"
   ]
  },
  {
   "cell_type": "code",
   "execution_count": 33,
   "metadata": {},
   "outputs": [
    {
     "ename": "SyntaxError",
     "evalue": "invalid syntax (<ipython-input-33-0204b7b109ad>, line 3)",
     "output_type": "error",
     "traceback": [
      "\u001b[1;36m  File \u001b[1;32m\"<ipython-input-33-0204b7b109ad>\"\u001b[1;36m, line \u001b[1;32m3\u001b[0m\n\u001b[1;33m    (df-df.iloc[max_row,:]).iloc[max_row:,:]..iloc[::-1,:].rolling(window=3,center=False).mean().plot(figsize=(10,10))\u001b[0m\n\u001b[1;37m                                             ^\u001b[0m\n\u001b[1;31mSyntaxError\u001b[0m\u001b[1;31m:\u001b[0m invalid syntax\n"
     ]
    }
   ],
   "source": [
    "#df.index=df.index.astype(float)\n",
    "max_row=df.fillna(0).values.argmax(axis=0).min()\n",
    "(df-df.iloc[max_row,:]).iloc[max_row:,:]..iloc[::-1,:].rolling(window=3,center=False).mean().plot(figsize=(10,10))"
   ]
  },
  {
   "cell_type": "code",
   "execution_count": null,
   "metadata": {},
   "outputs": [],
   "source": []
  }
 ],
 "metadata": {
  "kernelspec": {
   "display_name": "Python 3",
   "language": "python",
   "name": "python3"
  },
  "language_info": {
   "codemirror_mode": {
    "name": "ipython",
    "version": 3
   },
   "file_extension": ".py",
   "mimetype": "text/x-python",
   "name": "python",
   "nbconvert_exporter": "python",
   "pygments_lexer": "ipython3",
   "version": "3.7.6"
  }
 },
 "nbformat": 4,
 "nbformat_minor": 4
}
