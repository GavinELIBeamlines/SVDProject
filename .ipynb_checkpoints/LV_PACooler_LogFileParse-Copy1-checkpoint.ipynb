{
 "cells": [
  {
   "cell_type": "code",
   "execution_count": 222,
   "metadata": {},
   "outputs": [],
   "source": [
    "from pathlib import Path\n",
    "import pandas as pd\n",
    "import csv\n",
    "import matplotlib.pyplot as plt\n",
    "plt.rcParams['figure.facecolor']='w'"
   ]
  },
  {
   "cell_type": "code",
   "execution_count": 228,
   "metadata": {},
   "outputs": [],
   "source": [
    "logPath=Path('S:\\VP1 Team\\L4\\Gavin\\LoggingTest')\n",
    "#logFile=next(logPath.glob('*.*'))"
   ]
  },
  {
   "cell_type": "code",
   "execution_count": 229,
   "metadata": {},
   "outputs": [],
   "source": [
    "logFile=list(logPath.glob('*.*'))[1]"
   ]
  },
  {
   "cell_type": "code",
   "execution_count": 230,
   "metadata": {},
   "outputs": [],
   "source": [
    "with open(logFile.as_posix(),'rb') as f:\n",
    "    head=[next(f) for x in range(36)]\n"
   ]
  },
  {
   "cell_type": "code",
   "execution_count": 231,
   "metadata": {},
   "outputs": [],
   "source": [
    "df=pd.DataFrame()\n",
    "for j in range(10,36):\n",
    "    line=head[j].decode(encoding='unicode_escape').replace('\\x00','').split('\\x06')\n",
    "    try:\n",
    "        df_temp=pd.DataFrame([item.split('\\t') for item in line if '\\t' in item])\n",
    "        df_temp.set_index(0,inplace=True)\n",
    "        df_temp.columns=[head[j].decode(encoding='unicode_escape').replace('\\x00','').split('\\x06')[0][1:10]]\n",
    "        df=pd.concat((df,df_temp),axis=1)\n",
    "    except:\n",
    "        pass\n",
    "df=df.T\n",
    "df=df.astype(float)"
   ]
  },
  {
   "cell_type": "code",
   "execution_count": 233,
   "metadata": {},
   "outputs": [
    {
     "data": {
      "text/html": [
       "<div>\n",
       "<style scoped>\n",
       "    .dataframe tbody tr th:only-of-type {\n",
       "        vertical-align: middle;\n",
       "    }\n",
       "\n",
       "    .dataframe tbody tr th {\n",
       "        vertical-align: top;\n",
       "    }\n",
       "\n",
       "    .dataframe thead th {\n",
       "        text-align: right;\n",
       "    }\n",
       "</style>\n",
       "<table border=\"1\" class=\"dataframe\">\n",
       "  <thead>\n",
       "    <tr style=\"text-align: right;\">\n",
       "      <th></th>\n",
       "      <th>LPT436</th>\n",
       "      <th>LPT433</th>\n",
       "      <th>LPT434</th>\n",
       "      <th>LPT435</th>\n",
       "      <th>LPT431</th>\n",
       "      <th>LPT432</th>\n",
       "    </tr>\n",
       "  </thead>\n",
       "  <tbody>\n",
       "    <tr>\n",
       "      <th>98.089142</th>\n",
       "      <td>NaN</td>\n",
       "      <td>NaN</td>\n",
       "      <td>NaN</td>\n",
       "      <td>NaN</td>\n",
       "      <td>NaN</td>\n",
       "      <td>NaN</td>\n",
       "    </tr>\n",
       "    <tr>\n",
       "      <th>98.082142</th>\n",
       "      <td>-0.052557</td>\n",
       "      <td>-0.037279</td>\n",
       "      <td>-0.005479</td>\n",
       "      <td>-0.025835</td>\n",
       "      <td>-0.029140</td>\n",
       "      <td>-0.029226</td>\n",
       "    </tr>\n",
       "    <tr>\n",
       "      <th>98.081303</th>\n",
       "      <td>-0.025320</td>\n",
       "      <td>-0.080037</td>\n",
       "      <td>-0.054645</td>\n",
       "      <td>-0.001573</td>\n",
       "      <td>0.056219</td>\n",
       "      <td>0.009513</td>\n",
       "    </tr>\n",
       "    <tr>\n",
       "      <th>98.072944</th>\n",
       "      <td>0.073771</td>\n",
       "      <td>0.106344</td>\n",
       "      <td>-0.039568</td>\n",
       "      <td>0.017767</td>\n",
       "      <td>-0.034561</td>\n",
       "      <td>0.020314</td>\n",
       "    </tr>\n",
       "    <tr>\n",
       "      <th>98.083339</th>\n",
       "      <td>-0.058708</td>\n",
       "      <td>-0.066404</td>\n",
       "      <td>-0.005780</td>\n",
       "      <td>-0.017638</td>\n",
       "      <td>-0.053143</td>\n",
       "      <td>0.017652</td>\n",
       "    </tr>\n",
       "    <tr>\n",
       "      <th>98.085933</th>\n",
       "      <td>-0.002647</td>\n",
       "      <td>-0.024877</td>\n",
       "      <td>0.007811</td>\n",
       "      <td>-0.020457</td>\n",
       "      <td>0.036320</td>\n",
       "      <td>-0.098205</td>\n",
       "    </tr>\n",
       "    <tr>\n",
       "      <th>98.085008</th>\n",
       "      <td>0.095702</td>\n",
       "      <td>-0.006366</td>\n",
       "      <td>0.029654</td>\n",
       "      <td>-0.031786</td>\n",
       "      <td>-0.010085</td>\n",
       "      <td>0.037823</td>\n",
       "    </tr>\n",
       "    <tr>\n",
       "      <th>98.087120</th>\n",
       "      <td>-0.147214</td>\n",
       "      <td>-0.006780</td>\n",
       "      <td>-0.076761</td>\n",
       "      <td>0.010729</td>\n",
       "      <td>-0.005894</td>\n",
       "      <td>0.021601</td>\n",
       "    </tr>\n",
       "    <tr>\n",
       "      <th>98.085761</th>\n",
       "      <td>0.056476</td>\n",
       "      <td>0.000386</td>\n",
       "      <td>-0.034346</td>\n",
       "      <td>-0.067348</td>\n",
       "      <td>-0.040755</td>\n",
       "      <td>-0.009928</td>\n",
       "    </tr>\n",
       "    <tr>\n",
       "      <th>98.086977</th>\n",
       "      <td>-0.022459</td>\n",
       "      <td>-0.031800</td>\n",
       "      <td>-0.010243</td>\n",
       "      <td>0.081696</td>\n",
       "      <td>-0.055060</td>\n",
       "      <td>-0.005164</td>\n",
       "    </tr>\n",
       "    <tr>\n",
       "      <th>98.093805</th>\n",
       "      <td>-0.063586</td>\n",
       "      <td>0.066762</td>\n",
       "      <td>-0.030885</td>\n",
       "      <td>-0.055804</td>\n",
       "      <td>0.018897</td>\n",
       "      <td>-0.006180</td>\n",
       "    </tr>\n",
       "    <tr>\n",
       "      <th>98.077202</th>\n",
       "      <td>0.045633</td>\n",
       "      <td>-0.042787</td>\n",
       "      <td>-0.001158</td>\n",
       "      <td>0.026021</td>\n",
       "      <td>-0.004535</td>\n",
       "      <td>-0.017967</td>\n",
       "    </tr>\n",
       "    <tr>\n",
       "      <th>98.085437</th>\n",
       "      <td>-0.243330</td>\n",
       "      <td>-0.250854</td>\n",
       "      <td>-6.878057</td>\n",
       "      <td>-0.156140</td>\n",
       "      <td>-0.190744</td>\n",
       "      <td>-0.693626</td>\n",
       "    </tr>\n",
       "  </tbody>\n",
       "</table>\n",
       "</div>"
      ],
      "text/plain": [
       "0            LPT436    LPT433    LPT434    LPT435    LPT431    LPT432\n",
       "98.089142       NaN       NaN       NaN       NaN       NaN       NaN\n",
       "98.082142 -0.052557 -0.037279 -0.005479 -0.025835 -0.029140 -0.029226\n",
       "98.081303 -0.025320 -0.080037 -0.054645 -0.001573  0.056219  0.009513\n",
       "98.072944  0.073771  0.106344 -0.039568  0.017767 -0.034561  0.020314\n",
       "98.083339 -0.058708 -0.066404 -0.005780 -0.017638 -0.053143  0.017652\n",
       "98.085933 -0.002647 -0.024877  0.007811 -0.020457  0.036320 -0.098205\n",
       "98.085008  0.095702 -0.006366  0.029654 -0.031786 -0.010085  0.037823\n",
       "98.087120 -0.147214 -0.006780 -0.076761  0.010729 -0.005894  0.021601\n",
       "98.085761  0.056476  0.000386 -0.034346 -0.067348 -0.040755 -0.009928\n",
       "98.086977 -0.022459 -0.031800 -0.010243  0.081696 -0.055060 -0.005164\n",
       "98.093805 -0.063586  0.066762 -0.030885 -0.055804  0.018897 -0.006180\n",
       "98.077202  0.045633 -0.042787 -0.001158  0.026021 -0.004535 -0.017967\n",
       "98.085437 -0.243330 -0.250854 -6.878057 -0.156140 -0.190744 -0.693626"
      ]
     },
     "execution_count": 233,
     "metadata": {},
     "output_type": "execute_result"
    }
   ],
   "source": [
    "df.diff()"
   ]
  },
  {
   "cell_type": "code",
   "execution_count": 232,
   "metadata": {},
   "outputs": [
    {
     "data": {
      "text/plain": [
       "<matplotlib.axes._subplots.AxesSubplot at 0x166ca1ed148>"
      ]
     },
     "execution_count": 232,
     "metadata": {},
     "output_type": "execute_result"
    },
    {
     "data": {
      "image/png": "[encoded data removed]",
      "text/plain": [
       "<Figure size 720x720 with 1 Axes>"
      ]
     },
     "metadata": {},
     "output_type": "display_data"
    }
   ],
   "source": [
    "#df.index=df.index.astype(float)\n",
    "max_row=df.fillna(0).values.argmax(axis=0).min()\n",
    "(df-df.iloc[max_row,:]).iloc[max_row:,:].rolling(window=3).mean().plot(figsize=(10,10))"
   ]
  },
  {
   "cell_type": "code",
   "execution_count": null,
   "metadata": {},
   "outputs": [],
   "source": []
  }
 ],
 "metadata": {
  "kernelspec": {
   "display_name": "Python 3",
   "language": "python",
   "name": "python3"
  },
  "language_info": {
   "codemirror_mode": {
    "name": "ipython",
    "version": 3
   },
   "file_extension": ".py",
   "mimetype": "text/x-python",
   "name": "python",
   "nbconvert_exporter": "python",
   "pygments_lexer": "ipython3",
   "version": "3.7.6"
  }
 },
 "nbformat": 4,
 "nbformat_minor": 4
}
